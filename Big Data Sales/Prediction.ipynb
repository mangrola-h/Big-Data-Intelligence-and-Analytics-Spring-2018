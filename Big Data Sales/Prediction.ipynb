{
 "cells": [
  {
   "cell_type": "markdown",
   "metadata": {},
   "source": [
    "This notebook focuses on prediction of sales value for test dataset on the basis of factors we analyzed during Pre-processing and data analysis"
   ]
  },
  {
   "cell_type": "code",
   "execution_count": 1,
   "metadata": {
    "collapsed": true
   },
   "outputs": [],
   "source": [
    "#import all the libraries\n",
    "import pandas as pd\n",
    "import numpy as np\n",
    "import matplotlib.pyplot as plt\n",
    "import seaborn as sns"
   ]
  },
  {
   "cell_type": "code",
   "execution_count": 2,
   "metadata": {
    "collapsed": true
   },
   "outputs": [],
   "source": [
    "#import data\n",
    "train = pd.read_csv(\"modified_train.csv\")\n",
    "test = pd.read_csv(\"modified_test.csv\")\n",
    "test_original = pd.read_csv(\"test.csv\")"
   ]
  },
  {
   "cell_type": "code",
   "execution_count": 3,
   "metadata": {
    "collapsed": true
   },
   "outputs": [],
   "source": [
    "correlation = train[train.columns].corr()\n",
    "correlation.to_csv(\"correlation.csv\")"
   ]
  },
  {
   "cell_type": "markdown",
   "metadata": {},
   "source": [
    "from correlation matrix we can see, Item_Mrp, Outlet_Years, Outlet_Identifier, Outlet_Location_type1, Outlet_Size_1, Outlet_Type_Supermarket Type1, Outlet_Type_Supermarket Type3\n",
    "have the highest impact on outlet sales amount. But taking outlet_identifier as a factor is of no use so we will take the other factors into consideration and compute the sales price for test dataset."
   ]
  },
  {
   "cell_type": "code",
   "execution_count": 4,
   "metadata": {
    "collapsed": true
   },
   "outputs": [],
   "source": [
    "train = train[['Item_MRP','Item_Visibility', 'Outlet_Years', 'Item_Fat_Content_0', 'Item_Fat_Content_1', 'Item_Fat_Content_2', 'Item_Type_0', 'Item_Type_1', 'Item_Type_2', 'Item_Type_3', 'Item_Type_4', 'Item_Type_5', 'Item_Type_6', 'Item_Type_7', 'Item_Type_8', 'Item_Type_9', 'Item_Type_10', 'Item_Type_11', 'Item_Type_12', 'Item_Type_13', 'Item_Type_14', 'Item_Type_15', 'Outlet_Location_Type_0', 'Outlet_Location_Type_1', 'Outlet_Location_Type_2', 'Outlet_Type_0', 'Outlet_Type_1', 'Outlet_Type_2', 'Item_Outlet_Sales']]\n",
    "test = test[['Item_MRP','Item_Visibility', 'Outlet_Years', 'Item_Fat_Content_0', 'Item_Fat_Content_1', 'Item_Fat_Content_2', 'Item_Type_0', 'Item_Type_1', 'Item_Type_2', 'Item_Type_3', 'Item_Type_4', 'Item_Type_5', 'Item_Type_6', 'Item_Type_7', 'Item_Type_8', 'Item_Type_9', 'Item_Type_10', 'Item_Type_11', 'Item_Type_12', 'Item_Type_13', 'Item_Type_14', 'Item_Type_15', 'Outlet_Location_Type_0', 'Outlet_Location_Type_1', 'Outlet_Location_Type_2', 'Outlet_Type_0', 'Outlet_Type_1', 'Outlet_Type_2', 'Item_Outlet_Sales']]"
   ]
  },
  {
   "cell_type": "code",
   "execution_count": 5,
   "metadata": {
    "collapsed": true
   },
   "outputs": [],
   "source": [
    "#Dividing the dataset into dependent and independent factors for both test and train data\n",
    "X_train = train[['Item_MRP','Item_Visibility', 'Outlet_Years', 'Item_Fat_Content_0', 'Item_Fat_Content_1', 'Item_Fat_Content_2', 'Item_Type_0', 'Item_Type_1', 'Item_Type_2', 'Item_Type_3', 'Item_Type_4', 'Item_Type_5', 'Item_Type_6', 'Item_Type_7', 'Item_Type_8', 'Item_Type_9', 'Item_Type_10', 'Item_Type_11', 'Item_Type_12', 'Item_Type_13', 'Item_Type_14', 'Item_Type_15', 'Outlet_Location_Type_0', 'Outlet_Location_Type_1', 'Outlet_Location_Type_2', 'Outlet_Type_0', 'Outlet_Type_1', 'Outlet_Type_2']]\n",
    "y_train = train[['Item_Outlet_Sales']]\n",
    "X_test = test[['Item_MRP','Item_Visibility', 'Outlet_Years', 'Item_Fat_Content_0', 'Item_Fat_Content_1', 'Item_Fat_Content_2', 'Item_Type_0', 'Item_Type_1', 'Item_Type_2', 'Item_Type_3', 'Item_Type_4', 'Item_Type_5', 'Item_Type_6', 'Item_Type_7', 'Item_Type_8', 'Item_Type_9', 'Item_Type_10', 'Item_Type_11', 'Item_Type_12', 'Item_Type_13', 'Item_Type_14', 'Item_Type_15', 'Outlet_Location_Type_0', 'Outlet_Location_Type_1', 'Outlet_Location_Type_2', 'Outlet_Type_0', 'Outlet_Type_1', 'Outlet_Type_2']]\n",
    "y_test = test[['Item_Outlet_Sales']]"
   ]
  },
  {
   "cell_type": "markdown",
   "metadata": {},
   "source": [
    "After the analysis performed and factors decided for the model, we will further pre-process the data by standardizing it. I consider standardizing should be done in order to have scaled data in the set such that the results we have are not affected. "
   ]
  },
  {
   "cell_type": "markdown",
   "metadata": {},
   "source": [
    "I have used linear regression model though, using the model is not suitable here but I would like to note a difference of values predicted by linear model compared to decision tree and random forest"
   ]
  },
  {
   "cell_type": "code",
   "execution_count": 6,
   "metadata": {
    "collapsed": true
   },
   "outputs": [],
   "source": [
    "#Standard scalar class used to standardize the data\n",
    "from sklearn.preprocessing import StandardScaler\n",
    "sc_X = StandardScaler()\n",
    "sc_y = StandardScaler()\n",
    "X_train = sc_X.fit_transform(X_train)\n",
    "y_train = sc_y.fit_transform(y_train)\n",
    "X_test = sc_X.fit_transform(X_test)"
   ]
  },
  {
   "cell_type": "code",
   "execution_count": 7,
   "metadata": {},
   "outputs": [
    {
     "data": {
      "text/plain": [
       "LinearRegression(copy_X=True, fit_intercept=True, n_jobs=1, normalize=False)"
      ]
     },
     "execution_count": 7,
     "metadata": {},
     "output_type": "execute_result"
    }
   ],
   "source": [
    "from sklearn.linear_model import LinearRegression\n",
    "regressor_linearmodel = LinearRegression()\n",
    "regressor_linearmodel.fit(X_train, y_train)"
   ]
  },
  {
   "cell_type": "code",
   "execution_count": 8,
   "metadata": {
    "collapsed": true
   },
   "outputs": [],
   "source": [
    "y_predict_linearmodel = regressor_linearmodel.predict(X_test)"
   ]
  },
  {
   "cell_type": "markdown",
   "metadata": {},
   "source": [
    "#### Why Decision Tree regression ?\n",
    "\n",
    "Decision tree divides the data in such a way that it adds information by making leaf or node. The value of a new data point is an average of values in that leaf.\n",
    "\n",
    "Here, we have various variables on which the value of sale is dependent and hence each leaf node formed would give us an average value which will be used in predicting the sales value."
   ]
  },
  {
   "cell_type": "code",
   "execution_count": 9,
   "metadata": {},
   "outputs": [
    {
     "data": {
      "text/plain": [
       "DecisionTreeRegressor(criterion='mse', max_depth=None, max_features=None,\n",
       "           max_leaf_nodes=None, min_impurity_decrease=0.0,\n",
       "           min_impurity_split=None, min_samples_leaf=1,\n",
       "           min_samples_split=2, min_weight_fraction_leaf=0.0,\n",
       "           presort=False, random_state=0, splitter='best')"
      ]
     },
     "execution_count": 9,
     "metadata": {},
     "output_type": "execute_result"
    }
   ],
   "source": [
    "from sklearn.tree import DecisionTreeRegressor\n",
    "regressor_decisiontree = DecisionTreeRegressor(random_state=0)\n",
    "regressor_decisiontree.fit(X_train, y_train)"
   ]
  },
  {
   "cell_type": "code",
   "execution_count": 10,
   "metadata": {
    "collapsed": true
   },
   "outputs": [],
   "source": [
    "y_predict_decisiontree= regressor_decisiontree.predict(X_test)"
   ]
  },
  {
   "cell_type": "markdown",
   "metadata": {},
   "source": [
    "#### Why Random Forest?\n",
    "\n",
    "Random forest uses ensemble method and thus makes a much more powerful predictive model. It uses decision tree several times thus eventually improving the accuracy of the model.\n",
    "\n",
    "Ensemble methods are more powerful because of the fact that a small change in a dataset can affect one tree but its very difficult to affect an entire forest of trees, thus adding a benefit over Decision tree algorithm"
   ]
  },
  {
   "cell_type": "code",
   "execution_count": 11,
   "metadata": {},
   "outputs": [
    {
     "name": "stderr",
     "output_type": "stream",
     "text": [
      "C:\\Users\\jagdip\\Anaconda3\\lib\\site-packages\\ipykernel_launcher.py:3: DataConversionWarning: A column-vector y was passed when a 1d array was expected. Please change the shape of y to (n_samples,), for example using ravel().\n",
      "  This is separate from the ipykernel package so we can avoid doing imports until\n"
     ]
    },
    {
     "data": {
      "text/plain": [
       "RandomForestRegressor(bootstrap=True, criterion='mse', max_depth=None,\n",
       "           max_features='auto', max_leaf_nodes=None,\n",
       "           min_impurity_decrease=0.0, min_impurity_split=None,\n",
       "           min_samples_leaf=1, min_samples_split=2,\n",
       "           min_weight_fraction_leaf=0.0, n_estimators=300, n_jobs=1,\n",
       "           oob_score=False, random_state=0, verbose=0, warm_start=False)"
      ]
     },
     "execution_count": 11,
     "metadata": {},
     "output_type": "execute_result"
    }
   ],
   "source": [
    "from sklearn.ensemble import RandomForestRegressor\n",
    "regressor_randomforest = RandomForestRegressor(n_estimators=300, random_state=0)\n",
    "regressor_randomforest.fit(X_train, y_train)"
   ]
  },
  {
   "cell_type": "code",
   "execution_count": 12,
   "metadata": {
    "collapsed": true
   },
   "outputs": [],
   "source": [
    "y_predict_randomforest= regressor_randomforest.predict(X_test)"
   ]
  },
  {
   "cell_type": "code",
   "execution_count": 13,
   "metadata": {
    "collapsed": true
   },
   "outputs": [],
   "source": [
    "y_predict_randomforest_score = regressor_randomforest.score(X_test, y_predict_randomforest)\n",
    "y_predict_randomforest_score_train = regressor_randomforest.score(X_train, y_train)\n",
    "y_predict_decisiontree_score = regressor_decisiontree.score(X_test, y_predict_decisiontree)\n",
    "y_predict_decisiontree_score_train = regressor_decisiontree.score(X_train, y_train)\n",
    "y_predict_linear_score = regressor_linearmodel.score(X_test, y_predict_randomforest)\n",
    "y_predict_linear_score_train = regressor_linearmodel.score(X_train, y_train)"
   ]
  },
  {
   "cell_type": "code",
   "execution_count": 14,
   "metadata": {},
   "outputs": [
    {
     "name": "stdout",
     "output_type": "stream",
     "text": [
      "1.0\n",
      "0.938701973031\n",
      "1.0\n",
      "0.999999999676\n",
      "-1.72373323437e+22\n",
      "0.562583717908\n"
     ]
    }
   ],
   "source": [
    "#The accuracy of each algorithm:\n",
    "print (y_predict_randomforest_score)\n",
    "print (y_predict_randomforest_score_train)\n",
    "print (y_predict_decisiontree_score)\n",
    "print (y_predict_decisiontree_score_train)\n",
    "print (y_predict_linear_score)\n",
    "print (y_predict_linear_score_train)"
   ]
  },
  {
   "cell_type": "markdown",
   "metadata": {},
   "source": [
    "We can observe that the accuracy of random forest and decision tree algorithm has been higher and the linear model is not sufficient here to predict the values. Using a linear model for such dataset would definitely not give us the right approximated predicted value. "
   ]
  },
  {
   "cell_type": "code",
   "execution_count": 15,
   "metadata": {
    "collapsed": true
   },
   "outputs": [],
   "source": [
    "y_predict_linearmodel = sc_y.inverse_transform(y_predict_linearmodel)\n",
    "y_predict_randomforest = sc_y.inverse_transform(y_predict_randomforest)\n",
    "y_predict_decisiontree = sc_y.inverse_transform(y_predict_decisiontree)"
   ]
  },
  {
   "cell_type": "code",
   "execution_count": 16,
   "metadata": {
    "collapsed": true
   },
   "outputs": [],
   "source": [
    "#inverse the standardisation to get the actual values \n",
    "X_test = sc_X.inverse_transform(X_test)"
   ]
  },
  {
   "cell_type": "code",
   "execution_count": 17,
   "metadata": {
    "collapsed": true
   },
   "outputs": [],
   "source": [
    "prediction_linear = pd.DataFrame(y_predict_linearmodel, columns=['Outlet_Sales_Linear'])\n",
    "prediction_decisiontree = pd.DataFrame(y_predict_decisiontree, columns=['Outlet_Sales_dt'])\n",
    "prediction_randomforest = pd.DataFrame(y_predict_randomforest, columns=['Outlet_Sales_rf'])\n",
    "#X_test = pd.DataFrame(X_test)\n",
    "#Prediction.tofile('predictions.csv', sep=',')"
   ]
  },
  {
   "cell_type": "code",
   "execution_count": 18,
   "metadata": {
    "collapsed": true
   },
   "outputs": [],
   "source": [
    "prediction = pd.concat([test_original, prediction_decisiontree, prediction_randomforest, prediction_linear], axis=1)\n",
    "prediction.to_csv(\"prediction.csv\" )\n",
    "#prediction.columns['prediction_linear', 'prediction_decisiontree', 'prediction_randomforest']"
   ]
  },
  {
   "cell_type": "code",
   "execution_count": 19,
   "metadata": {
    "collapsed": true
   },
   "outputs": [],
   "source": [
    "prediction = pd.read_csv('prediction.csv')"
   ]
  },
  {
   "cell_type": "code",
   "execution_count": 20,
   "metadata": {
    "collapsed": true
   },
   "outputs": [],
   "source": [
    "Sales_distribution = prediction"
   ]
  },
  {
   "cell_type": "code",
   "execution_count": 22,
   "metadata": {},
   "outputs": [
    {
     "data": {
      "image/png": "[encoded data removed]",
      "text/plain": [
       "<matplotlib.figure.Figure at 0x1f0436083c8>"
      ]
     },
     "metadata": {},
     "output_type": "display_data"
    },
    {
     "name": "stdout",
     "output_type": "stream",
     "text": [
      "Mean of Sales decision tree:\n",
      "2236.890717244619\n",
      "Standard deviation of Sales decision tree:\n",
      "1799.7718752699204\n",
      "Mean of Sales random forest:\n",
      "2198.0285379294282\n",
      "Standard deviation of Sales random forest:\n",
      "1396.3659187531455\n"
     ]
    }
   ],
   "source": [
    "combined_data = pd.DataFrame(Sales_distribution[['Outlet_Sales_dt','Outlet_Sales_rf']])\n",
    "combined_data.plot(kind=\"density\",\n",
    "              figsize=(10,10),\n",
    "              xlim=(0,14000), title='Density distribution graph of predicted Sales value')\n",
    "plt.xlabel('Sales amount')\n",
    "plt.ylabel('Density')\n",
    "plt.show()\n",
    "\n",
    "print ('Mean of Sales decision tree:')\n",
    "print (combined_data['Outlet_Sales_dt'].mean())\n",
    "print ('Standard deviation of Sales decision tree:')\n",
    "print (combined_data['Outlet_Sales_dt'].std())\n",
    "\n",
    "print ('Mean of Sales random forest:')\n",
    "print (combined_data['Outlet_Sales_rf'].mean())\n",
    "print ('Standard deviation of Sales random forest:')\n",
    "print (combined_data['Outlet_Sales_rf'].std())\n"
   ]
  },
  {
   "cell_type": "markdown",
   "metadata": {},
   "source": [
    "We had a similarly right skewed distribution of sale for training data with mean of 2181 and standard deviation of 1780"
   ]
  },
  {
   "cell_type": "markdown",
   "metadata": {},
   "source": [
    "### Future work:\n",
    "\n",
    "Here we have not considered the Item_identifier in the predictive model data but the item definitely has a more impact rather than the category of item. \n",
    "We can work with each item and predict the values but would more powerful algorithm to deal with 1559 products in addition to the product and outlet features influencing the sale."
   ]
  }
 ],
 "metadata": {
  "kernelspec": {
   "display_name": "Python 3",
   "language": "python",
   "name": "python3"
  },
  "language_info": {
   "codemirror_mode": {
    "name": "ipython",
    "version": 3
   },
   "file_extension": ".py",
   "mimetype": "text/x-python",
   "name": "python",
   "nbconvert_exporter": "python",
   "pygments_lexer": "ipython3",
   "version": "3.6.3"
  }
 },
 "nbformat": 4,
 "nbformat_minor": 2
}
