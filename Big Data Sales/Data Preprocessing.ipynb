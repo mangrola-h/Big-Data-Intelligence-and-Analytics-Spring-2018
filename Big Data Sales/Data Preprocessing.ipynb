{
 "cells": [
  {
   "cell_type": "markdown",
   "metadata": {},
   "source": [
    "## Introduction \n",
    "\n",
    "The rapid growth of supermarkets coupled with increased awareness of low fat food during the 1960s marked the time where sales of the product would be influenced on various factors and not just the product name. By 1980s the supermarkets had led to decreased number and sales made by the grocery store. Here we have sales data of 1559 product across 10 stores in different cities. There are various factors relating to the store and the product given to us with an aim to predict sales of the product at a store. We will try to first understand the data given to us, pre-process the data and perform analysis to further understand the factors affecting the sales of the product. We will then build a predictive model to predict the sales amount based on factors we defined during analysis. \n"
   ]
  },
  {
   "cell_type": "markdown",
   "metadata": {
    "collapsed": true
   },
   "source": [
    "## Understanding the Dataset\n",
    "\n",
    "Here, I have used a kaggle dataset of Big Mart Sales: https://www.kaggle.com/nishanta/big-mart-sales/data.  The dataset is divided into test and test csv files.\n",
    "\n",
    "Big mart Sales data has data of 1559 items sold by 10 outlets over the course of time along with the details of product and the store. \n",
    "\n",
    "The product details include details like:\n",
    "1. Item weight: specifies the weight of the item \n",
    "2. Item_Fat_Content: a product is classified into two broad categories of depending on the fat content in the product- low-fat and normal fat product\n",
    "3. Item_Visibility: it gives us the visibility rate of the product in each store with 0 being the value of no product visibility to 1 being the value of product placed at easily available location\n",
    "4. Item_MRP: showing the MRP of the product without any store discounts applied\n",
    "\n",
    "The store details include:\n",
    "1. Outlet_Establishment year: Year in which the outlet is established with years ranging from 1985 to 2010\n",
    "2. Outlet_Size: gives us details on the size of the store; small, medium and large being the values\n",
    "3. Outlet_Location_Type: gives us an idea of where the outlet is located, whether it's a town, city or village area\n",
    "4. Outlet_type: classifies the oulet to supermarkets and grocery store\n",
    "\n",
    "We also have sales made by each store on the product "
   ]
  },
  {
   "cell_type": "markdown",
   "metadata": {},
   "source": [
    "## Data pre-processing\n",
    "\n",
    "Any data analysis first involves the understanding of data, removing any anamolies and finding suitable values to replace the null values. We also have to check the minimum and maximum for the vairables holding continous values and anamolies in the values for variables holding dicrete values. "
   ]
  },
  {
   "cell_type": "code",
   "execution_count": 1,
   "metadata": {
    "collapsed": true
   },
   "outputs": [],
   "source": [
    "#import the general libraries\n",
    "import pandas as pd\n",
    "import numpy as np\n",
    "import matplotlib.pyplot as plt\n",
    "import seaborn as sns"
   ]
  },
  {
   "cell_type": "code",
   "execution_count": 2,
   "metadata": {
    "collapsed": true
   },
   "outputs": [],
   "source": [
    "#get data\n",
    "train = pd.read_csv(\"train.csv\")\n",
    "test = pd.read_csv(\"test.csv\")"
   ]
  },
  {
   "cell_type": "markdown",
   "metadata": {},
   "source": [
    "I will combine the datasets so that the data pre-processing can be completed on both, test and train dataset without any discrepancy and also avoiding the repeatation of the steps for different datasets."
   ]
  },
  {
   "cell_type": "code",
   "execution_count": 3,
   "metadata": {
    "collapsed": true
   },
   "outputs": [],
   "source": [
    "#Combine test and train into one file\n",
    "train['source']='train'\n",
    "test['source']='test'\n",
    "dataset = pd.concat([train, test],ignore_index=True)"
   ]
  },
  {
   "cell_type": "markdown",
   "metadata": {},
   "source": [
    "#### Step 1 of pre-processing: Dealing with missing data in the dataset\n",
    "First step Dealing with missing data: Knowing the number of missing values.\n",
    "\n",
    "We will use .isnull() and sum() method to know the number of missing values in the dataset"
   ]
  },
  {
   "cell_type": "code",
   "execution_count": 4,
   "metadata": {},
   "outputs": [
    {
     "data": {
      "text/plain": [
       "Item_Fat_Content                0\n",
       "Item_Identifier                 0\n",
       "Item_MRP                        0\n",
       "Item_Outlet_Sales            5681\n",
       "Item_Type                       0\n",
       "Item_Visibility                 0\n",
       "Item_Weight                  2439\n",
       "Outlet_Establishment_Year       0\n",
       "Outlet_Identifier               0\n",
       "Outlet_Location_Type            0\n",
       "Outlet_Size                  4016\n",
       "Outlet_Type                     0\n",
       "source                          0\n",
       "dtype: int64"
      ]
     },
     "execution_count": 4,
     "metadata": {},
     "output_type": "execute_result"
    }
   ],
   "source": [
    "#Check missing values\n",
    "dataset.isnull().sum()"
   ]
  },
  {
   "cell_type": "markdown",
   "metadata": {},
   "source": [
    "Here, ignore the number of values missing in Item_Outlet_Sales as it has the missing values in test set which we have to predict using a predictive model after the analysis.Now, we have 2439 weight values and 4016 outlet_size values missing."
   ]
  },
  {
   "cell_type": "code",
   "execution_count": 5,
   "metadata": {},
   "outputs": [
    {
     "data": {
      "text/plain": [
       "Item_Fat_Content                 5\n",
       "Item_Identifier               1559\n",
       "Item_MRP                      8052\n",
       "Item_Outlet_Sales             3493\n",
       "Item_Type                       16\n",
       "Item_Visibility              13006\n",
       "Item_Weight                    415\n",
       "Outlet_Establishment_Year        9\n",
       "Outlet_Identifier               10\n",
       "Outlet_Location_Type             3\n",
       "Outlet_Size                      3\n",
       "Outlet_Type                      4\n",
       "source                           2\n",
       "dtype: int64"
      ]
     },
     "execution_count": 5,
     "metadata": {},
     "output_type": "execute_result"
    }
   ],
   "source": [
    "#Checking the number of unique values in each column\n",
    "dataset.nunique()"
   ]
  },
  {
   "cell_type": "code",
   "execution_count": 6,
   "metadata": {},
   "outputs": [
    {
     "data": {
      "text/html": [
       "<div>\n",
       "<style>\n",
       "    .dataframe thead tr:only-child th {\n",
       "        text-align: right;\n",
       "    }\n",
       "\n",
       "    .dataframe thead th {\n",
       "        text-align: left;\n",
       "    }\n",
       "\n",
       "    .dataframe tbody tr th {\n",
       "        vertical-align: top;\n",
       "    }\n",
       "</style>\n",
       "<table border=\"1\" class=\"dataframe\">\n",
       "  <thead>\n",
       "    <tr style=\"text-align: right;\">\n",
       "      <th></th>\n",
       "      <th>Item_MRP</th>\n",
       "      <th>Item_Outlet_Sales</th>\n",
       "      <th>Item_Visibility</th>\n",
       "      <th>Item_Weight</th>\n",
       "      <th>Outlet_Establishment_Year</th>\n",
       "    </tr>\n",
       "  </thead>\n",
       "  <tbody>\n",
       "    <tr>\n",
       "      <th>count</th>\n",
       "      <td>14204.000000</td>\n",
       "      <td>8523.000000</td>\n",
       "      <td>14204.000000</td>\n",
       "      <td>11765.000000</td>\n",
       "      <td>14204.000000</td>\n",
       "    </tr>\n",
       "    <tr>\n",
       "      <th>mean</th>\n",
       "      <td>141.004977</td>\n",
       "      <td>2181.288914</td>\n",
       "      <td>0.065953</td>\n",
       "      <td>12.792854</td>\n",
       "      <td>1997.830681</td>\n",
       "    </tr>\n",
       "    <tr>\n",
       "      <th>std</th>\n",
       "      <td>62.086938</td>\n",
       "      <td>1706.499616</td>\n",
       "      <td>0.051459</td>\n",
       "      <td>4.652502</td>\n",
       "      <td>8.371664</td>\n",
       "    </tr>\n",
       "    <tr>\n",
       "      <th>min</th>\n",
       "      <td>31.290000</td>\n",
       "      <td>33.290000</td>\n",
       "      <td>0.000000</td>\n",
       "      <td>4.555000</td>\n",
       "      <td>1985.000000</td>\n",
       "    </tr>\n",
       "    <tr>\n",
       "      <th>25%</th>\n",
       "      <td>94.012000</td>\n",
       "      <td>834.247400</td>\n",
       "      <td>0.027036</td>\n",
       "      <td>8.710000</td>\n",
       "      <td>1987.000000</td>\n",
       "    </tr>\n",
       "    <tr>\n",
       "      <th>50%</th>\n",
       "      <td>142.247000</td>\n",
       "      <td>1794.331000</td>\n",
       "      <td>0.054021</td>\n",
       "      <td>12.600000</td>\n",
       "      <td>1999.000000</td>\n",
       "    </tr>\n",
       "    <tr>\n",
       "      <th>75%</th>\n",
       "      <td>185.855600</td>\n",
       "      <td>3101.296400</td>\n",
       "      <td>0.094037</td>\n",
       "      <td>16.750000</td>\n",
       "      <td>2004.000000</td>\n",
       "    </tr>\n",
       "    <tr>\n",
       "      <th>max</th>\n",
       "      <td>266.888400</td>\n",
       "      <td>13086.964800</td>\n",
       "      <td>0.328391</td>\n",
       "      <td>21.350000</td>\n",
       "      <td>2009.000000</td>\n",
       "    </tr>\n",
       "  </tbody>\n",
       "</table>\n",
       "</div>"
      ],
      "text/plain": [
       "           Item_MRP  Item_Outlet_Sales  Item_Visibility   Item_Weight  \\\n",
       "count  14204.000000        8523.000000     14204.000000  11765.000000   \n",
       "mean     141.004977        2181.288914         0.065953     12.792854   \n",
       "std       62.086938        1706.499616         0.051459      4.652502   \n",
       "min       31.290000          33.290000         0.000000      4.555000   \n",
       "25%       94.012000         834.247400         0.027036      8.710000   \n",
       "50%      142.247000        1794.331000         0.054021     12.600000   \n",
       "75%      185.855600        3101.296400         0.094037     16.750000   \n",
       "max      266.888400       13086.964800         0.328391     21.350000   \n",
       "\n",
       "       Outlet_Establishment_Year  \n",
       "count               14204.000000  \n",
       "mean                 1997.830681  \n",
       "std                     8.371664  \n",
       "min                  1985.000000  \n",
       "25%                  1987.000000  \n",
       "50%                  1999.000000  \n",
       "75%                  2004.000000  \n",
       "max                  2009.000000  "
      ]
     },
     "execution_count": 6,
     "metadata": {},
     "output_type": "execute_result"
    }
   ],
   "source": [
    "dataset.describe()"
   ]
  },
  {
   "cell_type": "markdown",
   "metadata": {},
   "source": [
    "We replace the categorical missing values by the mode value of the column and continous missing values by the mean value of the column. We can replace the values using either imputer library from pre-processing package of python or by simply using fillna() function of pandas to fill the null values with the mean and mode values"
   ]
  },
  {
   "cell_type": "code",
   "execution_count": 7,
   "metadata": {
    "collapsed": true
   },
   "outputs": [],
   "source": [
    "#Replacing the missing outlet_size values with the mode value\n",
    "outlet_size_mode = dataset['Outlet_Size'].value_counts().idxmax()\n",
    "dataset = dataset.fillna({\"Outlet_Size\": \"Medium\"})\n",
    "\n",
    "#Fill the na values with item_weight by the mean value of item_weight\n",
    "mean_weight = dataset['Item_Weight'].mean()\n",
    "dataset = dataset.fillna({\"Item_Weight\": mean_weight})"
   ]
  },
  {
   "cell_type": "markdown",
   "metadata": {},
   "source": [
    "I would have considered replacing the item_weights with the mean of respective products item_weight but after exploring the dataset with weights, I observed all the individual products had the same weight and hence here the weight of the product doesn't have any or has least contribution to the sales amount and hence, considered saving time "
   ]
  },
  {
   "cell_type": "code",
   "execution_count": 8,
   "metadata": {},
   "outputs": [
    {
     "data": {
      "text/plain": [
       "Item_Fat_Content                0\n",
       "Item_Identifier                 0\n",
       "Item_MRP                        0\n",
       "Item_Outlet_Sales            5681\n",
       "Item_Type                       0\n",
       "Item_Visibility                 0\n",
       "Item_Weight                     0\n",
       "Outlet_Establishment_Year       0\n",
       "Outlet_Identifier               0\n",
       "Outlet_Location_Type            0\n",
       "Outlet_Size                     0\n",
       "Outlet_Type                     0\n",
       "source                          0\n",
       "dtype: int64"
      ]
     },
     "execution_count": 8,
     "metadata": {},
     "output_type": "execute_result"
    }
   ],
   "source": [
    "#Check missing values after filling the missing values with mode and median\n",
    "dataset.isnull().sum()"
   ]
  },
  {
   "cell_type": "code",
   "execution_count": 9,
   "metadata": {},
   "outputs": [
    {
     "data": {
      "text/html": [
       "<div>\n",
       "<style>\n",
       "    .dataframe thead tr:only-child th {\n",
       "        text-align: right;\n",
       "    }\n",
       "\n",
       "    .dataframe thead th {\n",
       "        text-align: left;\n",
       "    }\n",
       "\n",
       "    .dataframe tbody tr th {\n",
       "        vertical-align: top;\n",
       "    }\n",
       "</style>\n",
       "<table border=\"1\" class=\"dataframe\">\n",
       "  <thead>\n",
       "    <tr style=\"text-align: right;\">\n",
       "      <th></th>\n",
       "      <th>Item_MRP</th>\n",
       "      <th>Item_Outlet_Sales</th>\n",
       "      <th>Item_Visibility</th>\n",
       "      <th>Item_Weight</th>\n",
       "      <th>Outlet_Establishment_Year</th>\n",
       "    </tr>\n",
       "  </thead>\n",
       "  <tbody>\n",
       "    <tr>\n",
       "      <th>count</th>\n",
       "      <td>14204.000000</td>\n",
       "      <td>8523.000000</td>\n",
       "      <td>14204.000000</td>\n",
       "      <td>14204.000000</td>\n",
       "      <td>14204.000000</td>\n",
       "    </tr>\n",
       "    <tr>\n",
       "      <th>mean</th>\n",
       "      <td>141.004977</td>\n",
       "      <td>2181.288914</td>\n",
       "      <td>0.065953</td>\n",
       "      <td>12.792854</td>\n",
       "      <td>1997.830681</td>\n",
       "    </tr>\n",
       "    <tr>\n",
       "      <th>std</th>\n",
       "      <td>62.086938</td>\n",
       "      <td>1706.499616</td>\n",
       "      <td>0.051459</td>\n",
       "      <td>4.234226</td>\n",
       "      <td>8.371664</td>\n",
       "    </tr>\n",
       "    <tr>\n",
       "      <th>min</th>\n",
       "      <td>31.290000</td>\n",
       "      <td>33.290000</td>\n",
       "      <td>0.000000</td>\n",
       "      <td>4.555000</td>\n",
       "      <td>1985.000000</td>\n",
       "    </tr>\n",
       "    <tr>\n",
       "      <th>25%</th>\n",
       "      <td>94.012000</td>\n",
       "      <td>834.247400</td>\n",
       "      <td>0.027036</td>\n",
       "      <td>9.300000</td>\n",
       "      <td>1987.000000</td>\n",
       "    </tr>\n",
       "    <tr>\n",
       "      <th>50%</th>\n",
       "      <td>142.247000</td>\n",
       "      <td>1794.331000</td>\n",
       "      <td>0.054021</td>\n",
       "      <td>12.792854</td>\n",
       "      <td>1999.000000</td>\n",
       "    </tr>\n",
       "    <tr>\n",
       "      <th>75%</th>\n",
       "      <td>185.855600</td>\n",
       "      <td>3101.296400</td>\n",
       "      <td>0.094037</td>\n",
       "      <td>16.000000</td>\n",
       "      <td>2004.000000</td>\n",
       "    </tr>\n",
       "    <tr>\n",
       "      <th>max</th>\n",
       "      <td>266.888400</td>\n",
       "      <td>13086.964800</td>\n",
       "      <td>0.328391</td>\n",
       "      <td>21.350000</td>\n",
       "      <td>2009.000000</td>\n",
       "    </tr>\n",
       "  </tbody>\n",
       "</table>\n",
       "</div>"
      ],
      "text/plain": [
       "           Item_MRP  Item_Outlet_Sales  Item_Visibility   Item_Weight  \\\n",
       "count  14204.000000        8523.000000     14204.000000  14204.000000   \n",
       "mean     141.004977        2181.288914         0.065953     12.792854   \n",
       "std       62.086938        1706.499616         0.051459      4.234226   \n",
       "min       31.290000          33.290000         0.000000      4.555000   \n",
       "25%       94.012000         834.247400         0.027036      9.300000   \n",
       "50%      142.247000        1794.331000         0.054021     12.792854   \n",
       "75%      185.855600        3101.296400         0.094037     16.000000   \n",
       "max      266.888400       13086.964800         0.328391     21.350000   \n",
       "\n",
       "       Outlet_Establishment_Year  \n",
       "count               14204.000000  \n",
       "mean                 1997.830681  \n",
       "std                     8.371664  \n",
       "min                  1985.000000  \n",
       "25%                  1987.000000  \n",
       "50%                  1999.000000  \n",
       "75%                  2004.000000  \n",
       "max                  2009.000000  "
      ]
     },
     "execution_count": 9,
     "metadata": {},
     "output_type": "execute_result"
    }
   ],
   "source": [
    "#Numerical data summary:\n",
    "dataset.describe()"
   ]
  },
  {
   "cell_type": "markdown",
   "metadata": {},
   "source": [
    "#### Step 2 of pre-processing: Removing the anamolies from the dataset"
   ]
  },
  {
   "cell_type": "markdown",
   "metadata": {},
   "source": [
    "From the above summary of data, we observe that the Item_Visibility is 0 for some Items but that typically cannot be the case since the item is being sold so it is somewhere visible in the store. Hence we replace the 0 values in Item_Visibility by the mean of Item_Visibility"
   ]
  },
  {
   "cell_type": "code",
   "execution_count": 10,
   "metadata": {
    "collapsed": true
   },
   "outputs": [],
   "source": [
    "#Replace the zero value of visibility to the mean\n",
    "mean_visibility = dataset['Item_Visibility'].mean()\n",
    "dataset['Item_Visibility'] = dataset[\"Item_Visibility\"].replace(0,mean_visibility)"
   ]
  },
  {
   "cell_type": "code",
   "execution_count": 11,
   "metadata": {},
   "outputs": [
    {
     "data": {
      "text/html": [
       "<div>\n",
       "<style>\n",
       "    .dataframe thead tr:only-child th {\n",
       "        text-align: right;\n",
       "    }\n",
       "\n",
       "    .dataframe thead th {\n",
       "        text-align: left;\n",
       "    }\n",
       "\n",
       "    .dataframe tbody tr th {\n",
       "        vertical-align: top;\n",
       "    }\n",
       "</style>\n",
       "<table border=\"1\" class=\"dataframe\">\n",
       "  <thead>\n",
       "    <tr style=\"text-align: right;\">\n",
       "      <th></th>\n",
       "      <th>Item_MRP</th>\n",
       "      <th>Item_Outlet_Sales</th>\n",
       "      <th>Item_Visibility</th>\n",
       "      <th>Item_Weight</th>\n",
       "      <th>Outlet_Establishment_Year</th>\n",
       "    </tr>\n",
       "  </thead>\n",
       "  <tbody>\n",
       "    <tr>\n",
       "      <th>count</th>\n",
       "      <td>14204.000000</td>\n",
       "      <td>8523.000000</td>\n",
       "      <td>14204.000000</td>\n",
       "      <td>14204.000000</td>\n",
       "      <td>14204.000000</td>\n",
       "    </tr>\n",
       "    <tr>\n",
       "      <th>mean</th>\n",
       "      <td>141.004977</td>\n",
       "      <td>2181.288914</td>\n",
       "      <td>0.070034</td>\n",
       "      <td>12.792854</td>\n",
       "      <td>1997.830681</td>\n",
       "    </tr>\n",
       "    <tr>\n",
       "      <th>std</th>\n",
       "      <td>62.086938</td>\n",
       "      <td>1706.499616</td>\n",
       "      <td>0.048602</td>\n",
       "      <td>4.234226</td>\n",
       "      <td>8.371664</td>\n",
       "    </tr>\n",
       "    <tr>\n",
       "      <th>min</th>\n",
       "      <td>31.290000</td>\n",
       "      <td>33.290000</td>\n",
       "      <td>0.003575</td>\n",
       "      <td>4.555000</td>\n",
       "      <td>1985.000000</td>\n",
       "    </tr>\n",
       "    <tr>\n",
       "      <th>25%</th>\n",
       "      <td>94.012000</td>\n",
       "      <td>834.247400</td>\n",
       "      <td>0.033143</td>\n",
       "      <td>9.300000</td>\n",
       "      <td>1987.000000</td>\n",
       "    </tr>\n",
       "    <tr>\n",
       "      <th>50%</th>\n",
       "      <td>142.247000</td>\n",
       "      <td>1794.331000</td>\n",
       "      <td>0.062347</td>\n",
       "      <td>12.792854</td>\n",
       "      <td>1999.000000</td>\n",
       "    </tr>\n",
       "    <tr>\n",
       "      <th>75%</th>\n",
       "      <td>185.855600</td>\n",
       "      <td>3101.296400</td>\n",
       "      <td>0.094037</td>\n",
       "      <td>16.000000</td>\n",
       "      <td>2004.000000</td>\n",
       "    </tr>\n",
       "    <tr>\n",
       "      <th>max</th>\n",
       "      <td>266.888400</td>\n",
       "      <td>13086.964800</td>\n",
       "      <td>0.328391</td>\n",
       "      <td>21.350000</td>\n",
       "      <td>2009.000000</td>\n",
       "    </tr>\n",
       "  </tbody>\n",
       "</table>\n",
       "</div>"
      ],
      "text/plain": [
       "           Item_MRP  Item_Outlet_Sales  Item_Visibility   Item_Weight  \\\n",
       "count  14204.000000        8523.000000     14204.000000  14204.000000   \n",
       "mean     141.004977        2181.288914         0.070034     12.792854   \n",
       "std       62.086938        1706.499616         0.048602      4.234226   \n",
       "min       31.290000          33.290000         0.003575      4.555000   \n",
       "25%       94.012000         834.247400         0.033143      9.300000   \n",
       "50%      142.247000        1794.331000         0.062347     12.792854   \n",
       "75%      185.855600        3101.296400         0.094037     16.000000   \n",
       "max      266.888400       13086.964800         0.328391     21.350000   \n",
       "\n",
       "       Outlet_Establishment_Year  \n",
       "count               14204.000000  \n",
       "mean                 1997.830681  \n",
       "std                     8.371664  \n",
       "min                  1985.000000  \n",
       "25%                  1987.000000  \n",
       "50%                  1999.000000  \n",
       "75%                  2004.000000  \n",
       "max                  2009.000000  "
      ]
     },
     "execution_count": 11,
     "metadata": {},
     "output_type": "execute_result"
    }
   ],
   "source": [
    "dataset.describe()"
   ]
  },
  {
   "cell_type": "markdown",
   "metadata": {},
   "source": [
    "We will now check the categorical variables and their values. The columns with categorical value are :\n",
    "1. Item_Type  \n",
    "2. Outlet_Identifier              \n",
    "3. Outlet_Location_Type           \n",
    "4. Outlet_Size                    \n",
    "5. Outlet_Type \n",
    "6. Item_Fat_Content\n",
    "\n",
    "We will just focus Outlet_Location_Type, Outlet_Size, Outlet_Type, Item_Fat_Content"
   ]
  },
  {
   "cell_type": "code",
   "execution_count": 12,
   "metadata": {},
   "outputs": [
    {
     "name": "stdout",
     "output_type": "stream",
     "text": [
      "Outlet_Location_Type\n",
      "Tier 3    5583\n",
      "Tier 2    4641\n",
      "Tier 1    3980\n",
      "Name: Outlet_Location_Type, dtype: int64\n",
      "Outlet_Size\n",
      "Medium    8671\n",
      "Small     3980\n",
      "High      1553\n",
      "Name: Outlet_Size, dtype: int64\n",
      "Outlet_Type\n",
      "Supermarket Type1    9294\n",
      "Grocery Store        1805\n",
      "Supermarket Type3    1559\n",
      "Supermarket Type2    1546\n",
      "Name: Outlet_Type, dtype: int64\n",
      "Item_Fat_Content\n",
      "Low Fat    8485\n",
      "Regular    4824\n",
      "LF          522\n",
      "reg         195\n",
      "low fat     178\n",
      "Name: Item_Fat_Content, dtype: int64\n"
     ]
    }
   ],
   "source": [
    "columns = ['Outlet_Location_Type', 'Outlet_Size', 'Outlet_Type', 'Item_Fat_Content']\n",
    "for col in columns:\n",
    "    print (col)\n",
    "    print (dataset[col].value_counts())"
   ]
  },
  {
   "cell_type": "markdown",
   "metadata": {},
   "source": [
    "Focusing on the anomalies in categorical variable we observe that the data in Item_Fat_Content have different ways of writing values with the same meaning. \n",
    "\n",
    "We will here replace the same meaning words with one of the values in Item_Fat_Content so as to remove any anamolies during the analysis, that is, use Low Fat for LF and low fat and Regular for reg "
   ]
  },
  {
   "cell_type": "code",
   "execution_count": 13,
   "metadata": {
    "collapsed": true
   },
   "outputs": [],
   "source": [
    "#use .replace to replace LF, low fat to one category of Low Fat and same applies for reg to Regular \n",
    "dataset['Item_Fat_Content'] = dataset['Item_Fat_Content'].replace(['LF', 'low fat'], 'Low Fat')\n",
    "dataset['Item_Fat_Content'] = dataset['Item_Fat_Content'].replace(['reg'], 'Regular')"
   ]
  },
  {
   "cell_type": "markdown",
   "metadata": {
    "collapsed": true
   },
   "source": [
    "The Items are categorized as only low fat or regular based on Item Fat Content but we have products which fall in the category of household products, health and hygiene and others which does not have fat content related to it.\n",
    "\n",
    "So, I have added another category into Item_Fat_Content and that is non-edible. We will replace the Item_Fat_Content for health and hygiene, household and others Item_Type to non-edible. This would further help us analyzing how the products are sold and thus impacting their sales "
   ]
  },
  {
   "cell_type": "code",
   "execution_count": 14,
   "metadata": {
    "collapsed": true
   },
   "outputs": [],
   "source": [
    "dataset.loc[dataset['Item_Type']=='Health and Hygiene','Item_Fat_Content'] = \"Non-Edible\"\n",
    "dataset.loc[dataset['Item_Type']==\"Household\",'Item_Fat_Content'] = \"Non-Edible\"\n",
    "dataset.loc[dataset['Item_Type']==\"Others\",'Item_Fat_Content'] = \"Non-Edible\""
   ]
  },
  {
   "cell_type": "code",
   "execution_count": 15,
   "metadata": {},
   "outputs": [
    {
     "data": {
      "text/html": [
       "<div>\n",
       "<style>\n",
       "    .dataframe thead tr:only-child th {\n",
       "        text-align: right;\n",
       "    }\n",
       "\n",
       "    .dataframe thead th {\n",
       "        text-align: left;\n",
       "    }\n",
       "\n",
       "    .dataframe tbody tr th {\n",
       "        vertical-align: top;\n",
       "    }\n",
       "</style>\n",
       "<table border=\"1\" class=\"dataframe\">\n",
       "  <thead>\n",
       "    <tr style=\"text-align: right;\">\n",
       "      <th></th>\n",
       "      <th>Item_Fat_Content</th>\n",
       "      <th>Item_Identifier</th>\n",
       "      <th>Item_MRP</th>\n",
       "      <th>Item_Outlet_Sales</th>\n",
       "      <th>Item_Type</th>\n",
       "      <th>Item_Visibility</th>\n",
       "      <th>Item_Weight</th>\n",
       "      <th>Outlet_Establishment_Year</th>\n",
       "      <th>Outlet_Identifier</th>\n",
       "      <th>Outlet_Location_Type</th>\n",
       "      <th>Outlet_Size</th>\n",
       "      <th>Outlet_Type</th>\n",
       "      <th>source</th>\n",
       "    </tr>\n",
       "  </thead>\n",
       "  <tbody>\n",
       "    <tr>\n",
       "      <th>0</th>\n",
       "      <td>Low Fat</td>\n",
       "      <td>FDA15</td>\n",
       "      <td>249.8092</td>\n",
       "      <td>3735.1380</td>\n",
       "      <td>Dairy</td>\n",
       "      <td>0.016047</td>\n",
       "      <td>9.30</td>\n",
       "      <td>1999</td>\n",
       "      <td>OUT049</td>\n",
       "      <td>Tier 1</td>\n",
       "      <td>Medium</td>\n",
       "      <td>Supermarket Type1</td>\n",
       "      <td>train</td>\n",
       "    </tr>\n",
       "    <tr>\n",
       "      <th>1</th>\n",
       "      <td>Regular</td>\n",
       "      <td>DRC01</td>\n",
       "      <td>48.2692</td>\n",
       "      <td>443.4228</td>\n",
       "      <td>Soft Drinks</td>\n",
       "      <td>0.019278</td>\n",
       "      <td>5.92</td>\n",
       "      <td>2009</td>\n",
       "      <td>OUT018</td>\n",
       "      <td>Tier 3</td>\n",
       "      <td>Medium</td>\n",
       "      <td>Supermarket Type2</td>\n",
       "      <td>train</td>\n",
       "    </tr>\n",
       "    <tr>\n",
       "      <th>2</th>\n",
       "      <td>Low Fat</td>\n",
       "      <td>FDN15</td>\n",
       "      <td>141.6180</td>\n",
       "      <td>2097.2700</td>\n",
       "      <td>Meat</td>\n",
       "      <td>0.016760</td>\n",
       "      <td>17.50</td>\n",
       "      <td>1999</td>\n",
       "      <td>OUT049</td>\n",
       "      <td>Tier 1</td>\n",
       "      <td>Medium</td>\n",
       "      <td>Supermarket Type1</td>\n",
       "      <td>train</td>\n",
       "    </tr>\n",
       "    <tr>\n",
       "      <th>3</th>\n",
       "      <td>Regular</td>\n",
       "      <td>FDX07</td>\n",
       "      <td>182.0950</td>\n",
       "      <td>732.3800</td>\n",
       "      <td>Fruits and Vegetables</td>\n",
       "      <td>0.065953</td>\n",
       "      <td>19.20</td>\n",
       "      <td>1998</td>\n",
       "      <td>OUT010</td>\n",
       "      <td>Tier 3</td>\n",
       "      <td>Medium</td>\n",
       "      <td>Grocery Store</td>\n",
       "      <td>train</td>\n",
       "    </tr>\n",
       "    <tr>\n",
       "      <th>4</th>\n",
       "      <td>Non-Edible</td>\n",
       "      <td>NCD19</td>\n",
       "      <td>53.8614</td>\n",
       "      <td>994.7052</td>\n",
       "      <td>Household</td>\n",
       "      <td>0.065953</td>\n",
       "      <td>8.93</td>\n",
       "      <td>1987</td>\n",
       "      <td>OUT013</td>\n",
       "      <td>Tier 3</td>\n",
       "      <td>High</td>\n",
       "      <td>Supermarket Type1</td>\n",
       "      <td>train</td>\n",
       "    </tr>\n",
       "  </tbody>\n",
       "</table>\n",
       "</div>"
      ],
      "text/plain": [
       "  Item_Fat_Content Item_Identifier  Item_MRP  Item_Outlet_Sales  \\\n",
       "0          Low Fat           FDA15  249.8092          3735.1380   \n",
       "1          Regular           DRC01   48.2692           443.4228   \n",
       "2          Low Fat           FDN15  141.6180          2097.2700   \n",
       "3          Regular           FDX07  182.0950           732.3800   \n",
       "4       Non-Edible           NCD19   53.8614           994.7052   \n",
       "\n",
       "               Item_Type  Item_Visibility  Item_Weight  \\\n",
       "0                  Dairy         0.016047         9.30   \n",
       "1            Soft Drinks         0.019278         5.92   \n",
       "2                   Meat         0.016760        17.50   \n",
       "3  Fruits and Vegetables         0.065953        19.20   \n",
       "4              Household         0.065953         8.93   \n",
       "\n",
       "   Outlet_Establishment_Year Outlet_Identifier Outlet_Location_Type  \\\n",
       "0                       1999            OUT049               Tier 1   \n",
       "1                       2009            OUT018               Tier 3   \n",
       "2                       1999            OUT049               Tier 1   \n",
       "3                       1998            OUT010               Tier 3   \n",
       "4                       1987            OUT013               Tier 3   \n",
       "\n",
       "  Outlet_Size        Outlet_Type source  \n",
       "0      Medium  Supermarket Type1  train  \n",
       "1      Medium  Supermarket Type2  train  \n",
       "2      Medium  Supermarket Type1  train  \n",
       "3      Medium      Grocery Store  train  \n",
       "4        High  Supermarket Type1  train  "
      ]
     },
     "execution_count": 15,
     "metadata": {},
     "output_type": "execute_result"
    }
   ],
   "source": [
    "dataset.head()"
   ]
  },
  {
   "cell_type": "markdown",
   "metadata": {},
   "source": [
    "### Understanding the Item_Outlet_Sales and Item_MRP"
   ]
  },
  {
   "cell_type": "code",
   "execution_count": 16,
   "metadata": {
    "collapsed": true
   },
   "outputs": [],
   "source": [
    "Sales_distribuition = train"
   ]
  },
  {
   "cell_type": "code",
   "execution_count": 17,
   "metadata": {},
   "outputs": [
    {
     "data": {
      "image/png": "[encoded data removed]",
      "text/plain": [
       "<matplotlib.figure.Figure at 0x259f4c60518>"
      ]
     },
     "metadata": {},
     "output_type": "display_data"
    },
    {
     "name": "stdout",
     "output_type": "stream",
     "text": [
      "Mean of Sales:\n",
      "Item_Outlet_Sales    2181.288914\n",
      "dtype: float64\n",
      "Standard deviation of Sales:\n",
      "Item_Outlet_Sales    1706.499616\n",
      "dtype: float64\n"
     ]
    }
   ],
   "source": [
    "combined_data = pd.DataFrame(Sales_distribuition[['Item_Outlet_Sales']])\n",
    "combined_data.plot(kind=\"density\",\n",
    "              figsize=(10,10),\n",
    "              xlim=(0,14000), title='Density graph of Sales amount')\n",
    "plt.xlabel('Sales Amount')\n",
    "plt.ylabel('Density')\n",
    "plt.show()\n",
    "\n",
    "print ('Mean of Sales:')\n",
    "print (combined_data.mean())\n",
    "print ('Standard deviation of Sales:')\n",
    "print (combined_data.std())"
   ]
  },
  {
   "cell_type": "markdown",
   "metadata": {},
   "source": [
    "We observe that the Item_Outlet_Sales is right skewed with a mean of 2181 and the sales ranging from 30 to 14000"
   ]
  },
  {
   "cell_type": "code",
   "execution_count": 21,
   "metadata": {
    "collapsed": true
   },
   "outputs": [],
   "source": [
    "MRP_distribution = train"
   ]
  },
  {
   "cell_type": "code",
   "execution_count": 22,
   "metadata": {},
   "outputs": [
    {
     "data": {
      "image/png": "[encoded data removed]",
      "text/plain": [
       "<matplotlib.figure.Figure at 0x259f482bda0>"
      ]
     },
     "metadata": {},
     "output_type": "display_data"
    },
    {
     "name": "stdout",
     "output_type": "stream",
     "text": [
      "Mean of MRP:\n",
      "Item_MRP    140.992782\n",
      "dtype: float64\n",
      "Standard deviation of MRP:\n",
      "Item_MRP    62.275067\n",
      "dtype: float64\n"
     ]
    }
   ],
   "source": [
    "combined_data = pd.DataFrame(MRP_distribution[['Item_MRP']])\n",
    "combined_data.plot(kind=\"density\",\n",
    "              figsize=(10,10),\n",
    "              xlim=(0,300), title='Density graph of MRP')\n",
    "plt.xlabel('Item_Mrp')\n",
    "plt.ylabel('Density')\n",
    "plt.show()\n",
    "\n",
    "print ('Mean of MRP:')\n",
    "print (combined_data.mean())\n",
    "print ('Standard deviation of MRP:')\n",
    "print (combined_data.std())"
   ]
  },
  {
   "cell_type": "markdown",
   "metadata": {
    "collapsed": true
   },
   "source": [
    "The density graph of MRP shows a distribution with varying range in price of the item"
   ]
  },
  {
   "cell_type": "markdown",
   "metadata": {},
   "source": [
    "## Performing Analysis \n",
    "\n",
    "We will perform some analysis and make any necessary changes into the dataset for further predicting the sales of the store. Thinking about the factors we have in the dataset, the factors according to me which influence the sales are:\n",
    "1. Item_Fat_Content\n",
    "2. item_Type\n",
    "3. Outlet_Location_Type\n",
    "4. Outlet_Type\n",
    "5. Outlet_Establishment_Year\n",
    "\n",
    "Now, I would consider performing analysis on the basis of above factors and decide further on how much does each value in each attribute makes  a contribution towards sales\n",
    "\n",
    "I preferred to take outlet_type over outlet_size for the analysis, taking into consideration the fact that we had null values for outlet_size and we have taken up the mode value for the nulls and this can influence the results of analysis."
   ]
  },
  {
   "cell_type": "markdown",
   "metadata": {},
   "source": [
    "#### Factor 1: Item_Fat_Content"
   ]
  },
  {
   "cell_type": "code",
   "execution_count": 23,
   "metadata": {
    "collapsed": true
   },
   "outputs": [],
   "source": [
    "Fat_Content_Sales = dataset"
   ]
  },
  {
   "cell_type": "code",
   "execution_count": 24,
   "metadata": {
    "collapsed": true
   },
   "outputs": [],
   "source": [
    "Fat_Content_Sales = dataset.loc[dataset['source'] == 'train']"
   ]
  },
  {
   "cell_type": "code",
   "execution_count": 25,
   "metadata": {},
   "outputs": [
    {
     "name": "stdout",
     "output_type": "stream",
     "text": [
      "Sales by Fat Content is\n",
      "                  Item_Outlet_Sales\n",
      "Item_Fat_Content                   \n",
      "Low Fat                8.477883e+06\n",
      "Non-Edible             3.426211e+06\n",
      "Regular                6.687031e+06\n"
     ]
    },
    {
     "data": {
      "image/png": "[encoded data removed]",
      "text/plain": [
       "<matplotlib.figure.Figure at 0x259f4825630>"
      ]
     },
     "metadata": {},
     "output_type": "display_data"
    }
   ],
   "source": [
    "Content_Sales = Fat_Content_Sales.groupby(['Item_Fat_Content'])[['Item_Outlet_Sales']].sum()\n",
    "Content_Sales_plot = Content_Sales.plot(kind='bar', color='navy', title='Sales by fat content')\n",
    "print ('Sales by Fat Content is')\n",
    "print (Content_Sales)\n",
    "plt.xlabel('Fat Content')\n",
    "plt.ylabel('Sales')\n",
    "plt.show()"
   ]
  },
  {
   "cell_type": "markdown",
   "metadata": {},
   "source": [
    "We here observe that the low fat products contributes more to the sales compared to the regular fat comprising products. It can be because the low fat products have lower prices compared to the regular products and hence are being purchased more. We will check the sum of MRP for low fat products and regular fat products to know the insights of it."
   ]
  },
  {
   "cell_type": "code",
   "execution_count": 27,
   "metadata": {},
   "outputs": [
    {
     "name": "stdout",
     "output_type": "stream",
     "text": [
      "Sales by Fat Content is\n",
      "                     Item_MRP\n",
      "Item_Fat_Content             \n",
      "Low Fat           549865.4226\n",
      "Non-Edible        226454.2558\n",
      "Regular           425361.8024\n"
     ]
    },
    {
     "data": {
      "image/png": "[encoded data removed]",
      "text/plain": [
       "<matplotlib.figure.Figure at 0x259f42ee518>"
      ]
     },
     "metadata": {},
     "output_type": "display_data"
    }
   ],
   "source": [
    "Content_Sales = Fat_Content_Sales.groupby(['Item_Fat_Content'])[['Item_MRP']].sum()\n",
    "Content_Sales_plot = Content_Sales.plot(kind='bar', color='navy',title='Mrp by fat content')\n",
    "plt.xlabel('Fat Content')\n",
    "plt.ylabel('Sum of MRP')\n",
    "print ('Sales by Fat Content is')\n",
    "print (Content_Sales)\n",
    "plt.show()"
   ]
  },
  {
   "cell_type": "markdown",
   "metadata": {},
   "source": [
    "We observe that the sum of MRP's of the Low fat products is almost double compared to the sum of regular fat products. We can say that the low fat products definitely add a lot to the Sales_amount compared to the regular fat product. \n",
    "\n",
    "Let us check the count of low fat and regular fat product being sold to analyse whether it is just the price that adds to the sale or the low fat products are actually being sold in larger quantity compared to the regular fat products."
   ]
  },
  {
   "cell_type": "code",
   "execution_count": 28,
   "metadata": {},
   "outputs": [
    {
     "name": "stdout",
     "output_type": "stream",
     "text": [
      "Count by Fat Content is\n",
      "                  Item_Fat_Content\n",
      "Item_Fat_Content                  \n",
      "Low Fat                       3918\n",
      "Non-Edible                    1599\n",
      "Regular                       3006\n"
     ]
    },
    {
     "data": {
      "image/png": "[encoded data removed]",
      "text/plain": [
       "<matplotlib.figure.Figure at 0x259f4c28e80>"
      ]
     },
     "metadata": {},
     "output_type": "display_data"
    }
   ],
   "source": [
    "Content_Sales = Fat_Content_Sales.groupby(['Item_Fat_Content'])[['Item_Fat_Content']].count()\n",
    "Content_Sales_plot = Content_Sales.plot(kind='bar', color='navy',title='Count by fat content')\n",
    "plt.xlabel('Fat Content')\n",
    "plt.ylabel('Sum of Item')\n",
    "print ('Count by Fat Content is')\n",
    "print (Content_Sales)\n",
    "plt.show()"
   ]
  },
  {
   "cell_type": "markdown",
   "metadata": {},
   "source": [
    "Hence, after three different analysis, we can say low fat products are being sold in large quantity followed by regular fat products with household products being purchased the least."
   ]
  },
  {
   "cell_type": "markdown",
   "metadata": {},
   "source": [
    "#### Factor2: Item_Type contribution towards the sales"
   ]
  },
  {
   "cell_type": "code",
   "execution_count": 29,
   "metadata": {},
   "outputs": [
    {
     "name": "stdout",
     "output_type": "stream",
     "text": [
      "Sales by Item_type is\n",
      "                       Item_Outlet_Sales\n",
      "Item_Type                               \n",
      "Baking Goods                1.265525e+06\n",
      "Breads                      5.532372e+05\n",
      "Breakfast                   2.322990e+05\n",
      "Canned                      1.444151e+06\n",
      "Dairy                       1.522594e+06\n",
      "Frozen Foods                1.825735e+06\n",
      "Fruits and Vegetables       2.820060e+06\n",
      "Hard Drinks                 4.577934e+05\n",
      "Health and Hygiene          1.045200e+06\n",
      "Household                   2.055494e+06\n",
      "Meat                        9.175656e+05\n",
      "Others                      3.255176e+05\n",
      "Seafood                     1.488682e+05\n",
      "Snack Foods                 2.732786e+06\n",
      "Soft Drinks                 8.928977e+05\n",
      "Starchy Foods               3.514013e+05\n"
     ]
    },
    {
     "data": {
      "image/png": "[encoded data removed]",
      "text/plain": [
       "<matplotlib.figure.Figure at 0x259f45680b8>"
      ]
     },
     "metadata": {},
     "output_type": "display_data"
    }
   ],
   "source": [
    "Content_Sales = Fat_Content_Sales.groupby(['Item_Type'])[['Item_Outlet_Sales']].sum()\n",
    "Content_Sales = Content_Sales.sort_index()\n",
    "Content_Sales_plot = Content_Sales.plot(kind='bar', color='navy',title='Sale by item type')\n",
    "plt.xlabel('Item type')\n",
    "plt.ylabel('Sum of Sales')\n",
    "print ('Sales by Item_type is')\n",
    "print (Content_Sales)\n",
    "plt.show()"
   ]
  },
  {
   "cell_type": "code",
   "execution_count": 32,
   "metadata": {},
   "outputs": [
    {
     "name": "stdout",
     "output_type": "stream",
     "text": [
      "Sales by Item type is\n",
      "                       Item_Type\n",
      "Item_Type                       \n",
      "Baking Goods                 648\n",
      "Breads                       251\n",
      "Breakfast                    110\n",
      "Canned                       649\n",
      "Dairy                        682\n",
      "Frozen Foods                 856\n",
      "Fruits and Vegetables       1232\n",
      "Hard Drinks                  214\n",
      "Health and Hygiene           520\n",
      "Household                    910\n",
      "Meat                         425\n",
      "Others                       169\n",
      "Seafood                       64\n",
      "Snack Foods                 1200\n",
      "Soft Drinks                  445\n",
      "Starchy Foods                148\n"
     ]
    },
    {
     "data": {
      "image/png": "[encoded data removed]",
      "text/plain": [
       "<matplotlib.figure.Figure at 0x259f466c898>"
      ]
     },
     "metadata": {},
     "output_type": "display_data"
    }
   ],
   "source": [
    "Content_Sales = Fat_Content_Sales.groupby(['Item_Type'])[['Item_Type']].count()\n",
    "Content_Sales_plot = Content_Sales.plot(kind='bar', color='navy',title='Count by item_type')\n",
    "plt.xlabel('Item_type')\n",
    "plt.ylabel('Sum of item sold')\n",
    "print ('Sales by Item type is')\n",
    "print (Content_Sales)\n",
    "plt.show()"
   ]
  },
  {
   "cell_type": "markdown",
   "metadata": {},
   "source": [
    "Taking into consideration not just sale amount but also the count of Item_Type, Fruits and Vegetables, Snack Foods and Household are the top three contributors to the Total sale "
   ]
  },
  {
   "cell_type": "markdown",
   "metadata": {},
   "source": [
    "#### Factor 3: Outlet_Location_Type and Outlet_Type"
   ]
  },
  {
   "cell_type": "code",
   "execution_count": 33,
   "metadata": {},
   "outputs": [
    {
     "name": "stdout",
     "output_type": "stream",
     "text": [
      "Number of outlets are\n",
      "                      Outlet_Location_Type\n",
      "Outlet_Location_Type                      \n",
      "Tier 1                                2388\n",
      "Tier 2                                2785\n",
      "Tier 3                                3350\n"
     ]
    },
    {
     "data": {
      "image/png": "[encoded data removed]",
      "text/plain": [
       "<matplotlib.figure.Figure at 0x259f4973550>"
      ]
     },
     "metadata": {},
     "output_type": "display_data"
    }
   ],
   "source": [
    "Content_Sales = Fat_Content_Sales.groupby(['Outlet_Location_Type'])[['Outlet_Location_Type']].count()\n",
    "Content_Sales_plot = Content_Sales.plot(kind='bar', color='navy',title='Number of outlet  at each location')\n",
    "plt.xlabel('Oulet location')\n",
    "plt.ylabel('Number of outlets')\n",
    "print ('Number of outlets are')\n",
    "print (Content_Sales)\n",
    "plt.show()"
   ]
  },
  {
   "cell_type": "markdown",
   "metadata": {},
   "source": [
    "We do not have any clearity on what tier 1, 2 and 3 represent in the dataset but we can consider saying that tier 3 is a larger city with more population and hence has higher contribution towards the sale"
   ]
  },
  {
   "cell_type": "code",
   "execution_count": 34,
   "metadata": {},
   "outputs": [
    {
     "name": "stdout",
     "output_type": "stream",
     "text": [
      "Sales by Location and type are\n",
      "                                        Item_Outlet_Sales\n",
      "Outlet_Location_Type Outlet_Type                         \n",
      "Tier 1               Grocery Store           1.796941e+05\n",
      "                     Supermarket Type1       4.302365e+06\n",
      "Tier 2               Supermarket Type1       6.472314e+06\n",
      "Tier 3               Grocery Store           1.883402e+05\n",
      "                     Supermarket Type1       2.142664e+06\n",
      "                     Supermarket Type2       1.851823e+06\n",
      "                     Supermarket Type3       3.453926e+06\n"
     ]
    },
    {
     "data": {
      "image/png": "[encoded data removed]",
      "text/plain": [
       "<matplotlib.figure.Figure at 0x259f4bbe860>"
      ]
     },
     "metadata": {},
     "output_type": "display_data"
    }
   ],
   "source": [
    "Content_Sales = Fat_Content_Sales.groupby(['Outlet_Location_Type', 'Outlet_Type'])[['Item_Outlet_Sales']].sum()\n",
    "Content_Sales_plot = Content_Sales.plot(kind='bar', color='navy',title='Sales by outlet type and location')\n",
    "plt.xlabel('outlet type and location')\n",
    "plt.ylabel('Sum of Sales')\n",
    "print ('Sales by Location and type are')\n",
    "print (Content_Sales)\n",
    "plt.show()"
   ]
  },
  {
   "cell_type": "markdown",
   "metadata": {},
   "source": [
    "The above graphs gives us a clear insight of sales made by each outlet_type in each Outlet_Location"
   ]
  },
  {
   "cell_type": "markdown",
   "metadata": {},
   "source": [
    "#### Factor 4: Outlet_Eastablishment_Year"
   ]
  },
  {
   "cell_type": "code",
   "execution_count": 35,
   "metadata": {},
   "outputs": [
    {
     "name": "stdout",
     "output_type": "stream",
     "text": [
      "Sales by year of establishment\n",
      "                           Item_Outlet_Sales\n",
      "Outlet_Establishment_Year                   \n",
      "1985                            3.633620e+06\n",
      "1987                            2.142664e+06\n",
      "1997                            2.118395e+06\n",
      "1998                            1.883402e+05\n",
      "1999                            2.183970e+06\n",
      "2002                            2.036725e+06\n",
      "2004                            2.268123e+06\n",
      "2007                            2.167465e+06\n",
      "2009                            1.851823e+06\n"
     ]
    },
    {
     "data": {
      "image/png": "[encoded data removed]",
      "text/plain": [
       "<matplotlib.figure.Figure at 0x259f4d379b0>"
      ]
     },
     "metadata": {},
     "output_type": "display_data"
    }
   ],
   "source": [
    "Content_Sales = dataset.groupby(['Outlet_Establishment_Year'])[['Item_Outlet_Sales']].sum()\n",
    "Content_Sales_plot = Content_Sales.plot(kind='bar', color='navy',title='Sales by year of establishment')\n",
    "plt.xlabel('Year of establishment')\n",
    "plt.ylabel('Sum of Sales')\n",
    "print ('Sales by year of establishment')\n",
    "print (Content_Sales)\n",
    "plt.show()"
   ]
  },
  {
   "cell_type": "markdown",
   "metadata": {},
   "source": [
    "Considering oulet establishment year for sales would not be a suitable rather we should consider writing it more systematically by using number of years the oulet has been in the market. The older the outlet, higher the probability of the outlet to generate more sales due to the trust built with it's customers. \n",
    "\n",
    "We don't have a clear information on when this data was collected and hence we will take year 2010 for now to find the number of years the outlet has served and built the trust with its customers."
   ]
  },
  {
   "cell_type": "code",
   "execution_count": 35,
   "metadata": {
    "collapsed": true
   },
   "outputs": [],
   "source": [
    "#Years the outlet has been serving\n",
    "dataset['Outlet_Years'] = 2010 - dataset['Outlet_Establishment_Year']"
   ]
  },
  {
   "cell_type": "markdown",
   "metadata": {},
   "source": [
    "We now have a dataset with no anamolies and null values, we infact have a better understanding of dataset and the factors influencing the sales"
   ]
  },
  {
   "cell_type": "code",
   "execution_count": 36,
   "metadata": {},
   "outputs": [
    {
     "data": {
      "text/html": [
       "<div>\n",
       "<style>\n",
       "    .dataframe thead tr:only-child th {\n",
       "        text-align: right;\n",
       "    }\n",
       "\n",
       "    .dataframe thead th {\n",
       "        text-align: left;\n",
       "    }\n",
       "\n",
       "    .dataframe tbody tr th {\n",
       "        vertical-align: top;\n",
       "    }\n",
       "</style>\n",
       "<table border=\"1\" class=\"dataframe\">\n",
       "  <thead>\n",
       "    <tr style=\"text-align: right;\">\n",
       "      <th></th>\n",
       "      <th>Item_Fat_Content</th>\n",
       "      <th>Item_Identifier</th>\n",
       "      <th>Item_MRP</th>\n",
       "      <th>Item_Outlet_Sales</th>\n",
       "      <th>Item_Type</th>\n",
       "      <th>Item_Visibility</th>\n",
       "      <th>Item_Weight</th>\n",
       "      <th>Outlet_Establishment_Year</th>\n",
       "      <th>Outlet_Identifier</th>\n",
       "      <th>Outlet_Location_Type</th>\n",
       "      <th>Outlet_Size</th>\n",
       "      <th>Outlet_Type</th>\n",
       "      <th>source</th>\n",
       "      <th>Outlet_Years</th>\n",
       "    </tr>\n",
       "  </thead>\n",
       "  <tbody>\n",
       "    <tr>\n",
       "      <th>0</th>\n",
       "      <td>Low Fat</td>\n",
       "      <td>FDA15</td>\n",
       "      <td>249.8092</td>\n",
       "      <td>3735.1380</td>\n",
       "      <td>Dairy</td>\n",
       "      <td>0.016047</td>\n",
       "      <td>9.30</td>\n",
       "      <td>1999</td>\n",
       "      <td>OUT049</td>\n",
       "      <td>Tier 1</td>\n",
       "      <td>Medium</td>\n",
       "      <td>Supermarket Type1</td>\n",
       "      <td>train</td>\n",
       "      <td>11</td>\n",
       "    </tr>\n",
       "    <tr>\n",
       "      <th>1</th>\n",
       "      <td>Regular</td>\n",
       "      <td>DRC01</td>\n",
       "      <td>48.2692</td>\n",
       "      <td>443.4228</td>\n",
       "      <td>Soft Drinks</td>\n",
       "      <td>0.019278</td>\n",
       "      <td>5.92</td>\n",
       "      <td>2009</td>\n",
       "      <td>OUT018</td>\n",
       "      <td>Tier 3</td>\n",
       "      <td>Medium</td>\n",
       "      <td>Supermarket Type2</td>\n",
       "      <td>train</td>\n",
       "      <td>1</td>\n",
       "    </tr>\n",
       "    <tr>\n",
       "      <th>2</th>\n",
       "      <td>Low Fat</td>\n",
       "      <td>FDN15</td>\n",
       "      <td>141.6180</td>\n",
       "      <td>2097.2700</td>\n",
       "      <td>Meat</td>\n",
       "      <td>0.016760</td>\n",
       "      <td>17.50</td>\n",
       "      <td>1999</td>\n",
       "      <td>OUT049</td>\n",
       "      <td>Tier 1</td>\n",
       "      <td>Medium</td>\n",
       "      <td>Supermarket Type1</td>\n",
       "      <td>train</td>\n",
       "      <td>11</td>\n",
       "    </tr>\n",
       "    <tr>\n",
       "      <th>3</th>\n",
       "      <td>Regular</td>\n",
       "      <td>FDX07</td>\n",
       "      <td>182.0950</td>\n",
       "      <td>732.3800</td>\n",
       "      <td>Fruits and Vegetables</td>\n",
       "      <td>0.065953</td>\n",
       "      <td>19.20</td>\n",
       "      <td>1998</td>\n",
       "      <td>OUT010</td>\n",
       "      <td>Tier 3</td>\n",
       "      <td>Medium</td>\n",
       "      <td>Grocery Store</td>\n",
       "      <td>train</td>\n",
       "      <td>12</td>\n",
       "    </tr>\n",
       "    <tr>\n",
       "      <th>4</th>\n",
       "      <td>Non-Edible</td>\n",
       "      <td>NCD19</td>\n",
       "      <td>53.8614</td>\n",
       "      <td>994.7052</td>\n",
       "      <td>Household</td>\n",
       "      <td>0.065953</td>\n",
       "      <td>8.93</td>\n",
       "      <td>1987</td>\n",
       "      <td>OUT013</td>\n",
       "      <td>Tier 3</td>\n",
       "      <td>High</td>\n",
       "      <td>Supermarket Type1</td>\n",
       "      <td>train</td>\n",
       "      <td>23</td>\n",
       "    </tr>\n",
       "  </tbody>\n",
       "</table>\n",
       "</div>"
      ],
      "text/plain": [
       "  Item_Fat_Content Item_Identifier  Item_MRP  Item_Outlet_Sales  \\\n",
       "0          Low Fat           FDA15  249.8092          3735.1380   \n",
       "1          Regular           DRC01   48.2692           443.4228   \n",
       "2          Low Fat           FDN15  141.6180          2097.2700   \n",
       "3          Regular           FDX07  182.0950           732.3800   \n",
       "4       Non-Edible           NCD19   53.8614           994.7052   \n",
       "\n",
       "               Item_Type  Item_Visibility  Item_Weight  \\\n",
       "0                  Dairy         0.016047         9.30   \n",
       "1            Soft Drinks         0.019278         5.92   \n",
       "2                   Meat         0.016760        17.50   \n",
       "3  Fruits and Vegetables         0.065953        19.20   \n",
       "4              Household         0.065953         8.93   \n",
       "\n",
       "   Outlet_Establishment_Year Outlet_Identifier Outlet_Location_Type  \\\n",
       "0                       1999            OUT049               Tier 1   \n",
       "1                       2009            OUT018               Tier 3   \n",
       "2                       1999            OUT049               Tier 1   \n",
       "3                       1998            OUT010               Tier 3   \n",
       "4                       1987            OUT013               Tier 3   \n",
       "\n",
       "  Outlet_Size        Outlet_Type source  Outlet_Years  \n",
       "0      Medium  Supermarket Type1  train            11  \n",
       "1      Medium  Supermarket Type2  train             1  \n",
       "2      Medium  Supermarket Type1  train            11  \n",
       "3      Medium      Grocery Store  train            12  \n",
       "4        High  Supermarket Type1  train            23  "
      ]
     },
     "execution_count": 36,
     "metadata": {},
     "output_type": "execute_result"
    }
   ],
   "source": [
    "dataset.head()"
   ]
  },
  {
   "cell_type": "code",
   "execution_count": 37,
   "metadata": {
    "collapsed": true
   },
   "outputs": [],
   "source": [
    "dataset = dataset[['Item_Fat_Content', 'Item_Type', 'Item_MRP', 'Item_Visibility', 'Outlet_Location_Type',  'Outlet_Type', 'Outlet_Years', 'Item_Outlet_Sales', 'source']]"
   ]
  },
  {
   "cell_type": "code",
   "execution_count": 38,
   "metadata": {},
   "outputs": [
    {
     "data": {
      "text/html": [
       "<div>\n",
       "<style>\n",
       "    .dataframe thead tr:only-child th {\n",
       "        text-align: right;\n",
       "    }\n",
       "\n",
       "    .dataframe thead th {\n",
       "        text-align: left;\n",
       "    }\n",
       "\n",
       "    .dataframe tbody tr th {\n",
       "        vertical-align: top;\n",
       "    }\n",
       "</style>\n",
       "<table border=\"1\" class=\"dataframe\">\n",
       "  <thead>\n",
       "    <tr style=\"text-align: right;\">\n",
       "      <th></th>\n",
       "      <th>Item_Fat_Content</th>\n",
       "      <th>Item_Type</th>\n",
       "      <th>Item_MRP</th>\n",
       "      <th>Item_Visibility</th>\n",
       "      <th>Outlet_Location_Type</th>\n",
       "      <th>Outlet_Type</th>\n",
       "      <th>Outlet_Years</th>\n",
       "      <th>Item_Outlet_Sales</th>\n",
       "      <th>source</th>\n",
       "    </tr>\n",
       "  </thead>\n",
       "  <tbody>\n",
       "    <tr>\n",
       "      <th>0</th>\n",
       "      <td>Low Fat</td>\n",
       "      <td>Dairy</td>\n",
       "      <td>249.8092</td>\n",
       "      <td>0.016047</td>\n",
       "      <td>Tier 1</td>\n",
       "      <td>Supermarket Type1</td>\n",
       "      <td>11</td>\n",
       "      <td>3735.1380</td>\n",
       "      <td>train</td>\n",
       "    </tr>\n",
       "    <tr>\n",
       "      <th>1</th>\n",
       "      <td>Regular</td>\n",
       "      <td>Soft Drinks</td>\n",
       "      <td>48.2692</td>\n",
       "      <td>0.019278</td>\n",
       "      <td>Tier 3</td>\n",
       "      <td>Supermarket Type2</td>\n",
       "      <td>1</td>\n",
       "      <td>443.4228</td>\n",
       "      <td>train</td>\n",
       "    </tr>\n",
       "    <tr>\n",
       "      <th>2</th>\n",
       "      <td>Low Fat</td>\n",
       "      <td>Meat</td>\n",
       "      <td>141.6180</td>\n",
       "      <td>0.016760</td>\n",
       "      <td>Tier 1</td>\n",
       "      <td>Supermarket Type1</td>\n",
       "      <td>11</td>\n",
       "      <td>2097.2700</td>\n",
       "      <td>train</td>\n",
       "    </tr>\n",
       "    <tr>\n",
       "      <th>3</th>\n",
       "      <td>Regular</td>\n",
       "      <td>Fruits and Vegetables</td>\n",
       "      <td>182.0950</td>\n",
       "      <td>0.065953</td>\n",
       "      <td>Tier 3</td>\n",
       "      <td>Grocery Store</td>\n",
       "      <td>12</td>\n",
       "      <td>732.3800</td>\n",
       "      <td>train</td>\n",
       "    </tr>\n",
       "    <tr>\n",
       "      <th>4</th>\n",
       "      <td>Non-Edible</td>\n",
       "      <td>Household</td>\n",
       "      <td>53.8614</td>\n",
       "      <td>0.065953</td>\n",
       "      <td>Tier 3</td>\n",
       "      <td>Supermarket Type1</td>\n",
       "      <td>23</td>\n",
       "      <td>994.7052</td>\n",
       "      <td>train</td>\n",
       "    </tr>\n",
       "  </tbody>\n",
       "</table>\n",
       "</div>"
      ],
      "text/plain": [
       "  Item_Fat_Content              Item_Type  Item_MRP  Item_Visibility  \\\n",
       "0          Low Fat                  Dairy  249.8092         0.016047   \n",
       "1          Regular            Soft Drinks   48.2692         0.019278   \n",
       "2          Low Fat                   Meat  141.6180         0.016760   \n",
       "3          Regular  Fruits and Vegetables  182.0950         0.065953   \n",
       "4       Non-Edible              Household   53.8614         0.065953   \n",
       "\n",
       "  Outlet_Location_Type        Outlet_Type  Outlet_Years  Item_Outlet_Sales  \\\n",
       "0               Tier 1  Supermarket Type1            11          3735.1380   \n",
       "1               Tier 3  Supermarket Type2             1           443.4228   \n",
       "2               Tier 1  Supermarket Type1            11          2097.2700   \n",
       "3               Tier 3      Grocery Store            12           732.3800   \n",
       "4               Tier 3  Supermarket Type1            23           994.7052   \n",
       "\n",
       "  source  \n",
       "0  train  \n",
       "1  train  \n",
       "2  train  \n",
       "3  train  \n",
       "4  train  "
      ]
     },
     "execution_count": 38,
     "metadata": {},
     "output_type": "execute_result"
    }
   ],
   "source": [
    "dataset.head()"
   ]
  },
  {
   "cell_type": "markdown",
   "metadata": {},
   "source": [
    "## Data pre-processing reloaded\n",
    "\n",
    "Data pre-processing also involves encoding the categorical values to help us in building the predictive model. These values are then converted into much suitable format for predictive model using One-Hot encoder or get dummies. "
   ]
  },
  {
   "cell_type": "code",
   "execution_count": 39,
   "metadata": {
    "collapsed": true
   },
   "outputs": [],
   "source": [
    "#Preprocess the data-encoding using Label Encoder\n",
    "from sklearn.preprocessing import LabelEncoder\n",
    "labelencoder_X = LabelEncoder()\n",
    "dataset.iloc[:, 0] = labelencoder_X.fit_transform(dataset.iloc[:, 0])\n",
    "dataset.iloc[:, 1] = labelencoder_X.fit_transform(dataset.iloc[:, 1])\n",
    "dataset.iloc[:, 4] = labelencoder_X.fit_transform(dataset.iloc[:, 4])\n",
    "dataset.iloc[:, 5] = labelencoder_X.fit_transform(dataset.iloc[:, 5])\n"
   ]
  },
  {
   "cell_type": "code",
   "execution_count": 40,
   "metadata": {
    "collapsed": true
   },
   "outputs": [],
   "source": [
    "#apply one hot encoding\n",
    "dataset = pd.get_dummies(dataset, columns=['Item_Fat_Content','Item_Type','Outlet_Location_Type','Outlet_Type'])"
   ]
  },
  {
   "cell_type": "markdown",
   "metadata": {},
   "source": [
    "Now, we have our final dataset for building a model"
   ]
  },
  {
   "cell_type": "code",
   "execution_count": 41,
   "metadata": {},
   "outputs": [
    {
     "data": {
      "text/html": [
       "<div>\n",
       "<style>\n",
       "    .dataframe thead tr:only-child th {\n",
       "        text-align: right;\n",
       "    }\n",
       "\n",
       "    .dataframe thead th {\n",
       "        text-align: left;\n",
       "    }\n",
       "\n",
       "    .dataframe tbody tr th {\n",
       "        vertical-align: top;\n",
       "    }\n",
       "</style>\n",
       "<table border=\"1\" class=\"dataframe\">\n",
       "  <thead>\n",
       "    <tr style=\"text-align: right;\">\n",
       "      <th></th>\n",
       "      <th>Item_MRP</th>\n",
       "      <th>Item_Visibility</th>\n",
       "      <th>Outlet_Years</th>\n",
       "      <th>Item_Outlet_Sales</th>\n",
       "      <th>source</th>\n",
       "      <th>Item_Fat_Content_0</th>\n",
       "      <th>Item_Fat_Content_1</th>\n",
       "      <th>Item_Fat_Content_2</th>\n",
       "      <th>Item_Type_0</th>\n",
       "      <th>Item_Type_1</th>\n",
       "      <th>...</th>\n",
       "      <th>Item_Type_13</th>\n",
       "      <th>Item_Type_14</th>\n",
       "      <th>Item_Type_15</th>\n",
       "      <th>Outlet_Location_Type_0</th>\n",
       "      <th>Outlet_Location_Type_1</th>\n",
       "      <th>Outlet_Location_Type_2</th>\n",
       "      <th>Outlet_Type_0</th>\n",
       "      <th>Outlet_Type_1</th>\n",
       "      <th>Outlet_Type_2</th>\n",
       "      <th>Outlet_Type_3</th>\n",
       "    </tr>\n",
       "  </thead>\n",
       "  <tbody>\n",
       "    <tr>\n",
       "      <th>0</th>\n",
       "      <td>249.8092</td>\n",
       "      <td>0.016047</td>\n",
       "      <td>11</td>\n",
       "      <td>3735.1380</td>\n",
       "      <td>train</td>\n",
       "      <td>1</td>\n",
       "      <td>0</td>\n",
       "      <td>0</td>\n",
       "      <td>0</td>\n",
       "      <td>0</td>\n",
       "      <td>...</td>\n",
       "      <td>0</td>\n",
       "      <td>0</td>\n",
       "      <td>0</td>\n",
       "      <td>1</td>\n",
       "      <td>0</td>\n",
       "      <td>0</td>\n",
       "      <td>0</td>\n",
       "      <td>1</td>\n",
       "      <td>0</td>\n",
       "      <td>0</td>\n",
       "    </tr>\n",
       "    <tr>\n",
       "      <th>1</th>\n",
       "      <td>48.2692</td>\n",
       "      <td>0.019278</td>\n",
       "      <td>1</td>\n",
       "      <td>443.4228</td>\n",
       "      <td>train</td>\n",
       "      <td>0</td>\n",
       "      <td>0</td>\n",
       "      <td>1</td>\n",
       "      <td>0</td>\n",
       "      <td>0</td>\n",
       "      <td>...</td>\n",
       "      <td>0</td>\n",
       "      <td>1</td>\n",
       "      <td>0</td>\n",
       "      <td>0</td>\n",
       "      <td>0</td>\n",
       "      <td>1</td>\n",
       "      <td>0</td>\n",
       "      <td>0</td>\n",
       "      <td>1</td>\n",
       "      <td>0</td>\n",
       "    </tr>\n",
       "    <tr>\n",
       "      <th>2</th>\n",
       "      <td>141.6180</td>\n",
       "      <td>0.016760</td>\n",
       "      <td>11</td>\n",
       "      <td>2097.2700</td>\n",
       "      <td>train</td>\n",
       "      <td>1</td>\n",
       "      <td>0</td>\n",
       "      <td>0</td>\n",
       "      <td>0</td>\n",
       "      <td>0</td>\n",
       "      <td>...</td>\n",
       "      <td>0</td>\n",
       "      <td>0</td>\n",
       "      <td>0</td>\n",
       "      <td>1</td>\n",
       "      <td>0</td>\n",
       "      <td>0</td>\n",
       "      <td>0</td>\n",
       "      <td>1</td>\n",
       "      <td>0</td>\n",
       "      <td>0</td>\n",
       "    </tr>\n",
       "    <tr>\n",
       "      <th>3</th>\n",
       "      <td>182.0950</td>\n",
       "      <td>0.065953</td>\n",
       "      <td>12</td>\n",
       "      <td>732.3800</td>\n",
       "      <td>train</td>\n",
       "      <td>0</td>\n",
       "      <td>0</td>\n",
       "      <td>1</td>\n",
       "      <td>0</td>\n",
       "      <td>0</td>\n",
       "      <td>...</td>\n",
       "      <td>0</td>\n",
       "      <td>0</td>\n",
       "      <td>0</td>\n",
       "      <td>0</td>\n",
       "      <td>0</td>\n",
       "      <td>1</td>\n",
       "      <td>1</td>\n",
       "      <td>0</td>\n",
       "      <td>0</td>\n",
       "      <td>0</td>\n",
       "    </tr>\n",
       "    <tr>\n",
       "      <th>4</th>\n",
       "      <td>53.8614</td>\n",
       "      <td>0.065953</td>\n",
       "      <td>23</td>\n",
       "      <td>994.7052</td>\n",
       "      <td>train</td>\n",
       "      <td>0</td>\n",
       "      <td>1</td>\n",
       "      <td>0</td>\n",
       "      <td>0</td>\n",
       "      <td>0</td>\n",
       "      <td>...</td>\n",
       "      <td>0</td>\n",
       "      <td>0</td>\n",
       "      <td>0</td>\n",
       "      <td>0</td>\n",
       "      <td>0</td>\n",
       "      <td>1</td>\n",
       "      <td>0</td>\n",
       "      <td>1</td>\n",
       "      <td>0</td>\n",
       "      <td>0</td>\n",
       "    </tr>\n",
       "  </tbody>\n",
       "</table>\n",
       "<p>5 rows × 31 columns</p>\n",
       "</div>"
      ],
      "text/plain": [
       "   Item_MRP  Item_Visibility  Outlet_Years  Item_Outlet_Sales source  \\\n",
       "0  249.8092         0.016047            11          3735.1380  train   \n",
       "1   48.2692         0.019278             1           443.4228  train   \n",
       "2  141.6180         0.016760            11          2097.2700  train   \n",
       "3  182.0950         0.065953            12           732.3800  train   \n",
       "4   53.8614         0.065953            23           994.7052  train   \n",
       "\n",
       "   Item_Fat_Content_0  Item_Fat_Content_1  Item_Fat_Content_2  Item_Type_0  \\\n",
       "0                   1                   0                   0            0   \n",
       "1                   0                   0                   1            0   \n",
       "2                   1                   0                   0            0   \n",
       "3                   0                   0                   1            0   \n",
       "4                   0                   1                   0            0   \n",
       "\n",
       "   Item_Type_1      ...        Item_Type_13  Item_Type_14  Item_Type_15  \\\n",
       "0            0      ...                   0             0             0   \n",
       "1            0      ...                   0             1             0   \n",
       "2            0      ...                   0             0             0   \n",
       "3            0      ...                   0             0             0   \n",
       "4            0      ...                   0             0             0   \n",
       "\n",
       "   Outlet_Location_Type_0  Outlet_Location_Type_1  Outlet_Location_Type_2  \\\n",
       "0                       1                       0                       0   \n",
       "1                       0                       0                       1   \n",
       "2                       1                       0                       0   \n",
       "3                       0                       0                       1   \n",
       "4                       0                       0                       1   \n",
       "\n",
       "   Outlet_Type_0  Outlet_Type_1  Outlet_Type_2  Outlet_Type_3  \n",
       "0              0              1              0              0  \n",
       "1              0              0              1              0  \n",
       "2              0              1              0              0  \n",
       "3              1              0              0              0  \n",
       "4              0              1              0              0  \n",
       "\n",
       "[5 rows x 31 columns]"
      ]
     },
     "execution_count": 41,
     "metadata": {},
     "output_type": "execute_result"
    }
   ],
   "source": [
    "dataset.head()"
   ]
  },
  {
   "cell_type": "code",
   "execution_count": 42,
   "metadata": {
    "collapsed": true
   },
   "outputs": [],
   "source": [
    "#Divide into test and train:\n",
    "train_modified = dataset.loc[dataset['source']==\"train\"]\n",
    "test_modified = dataset.loc[dataset['source']==\"test\"]"
   ]
  },
  {
   "cell_type": "code",
   "execution_count": 43,
   "metadata": {
    "collapsed": true,
    "scrolled": true
   },
   "outputs": [],
   "source": [
    "train_modified.to_csv(\"modified_train.csv\")\n",
    "test_modified.to_csv(\"modified_test.csv\")"
   ]
  },
  {
   "cell_type": "markdown",
   "metadata": {},
   "source": [
    "### Future work on Analysis:\n",
    "    I have not taken into consideration the statistical analysis of dataset, that is testing the hypothesis and proportion. For future, we can test the variables that we have taken into consideration from the dataset for out model using the hypothesis testing to understand whether the factors taken into consideration are correct and proportion testing to better know the proportion of sale influenced by each factor. "
   ]
  }
 ],
 "metadata": {
  "kernelspec": {
   "display_name": "Python 3",
   "language": "python",
   "name": "python3"
  },
  "language_info": {
   "codemirror_mode": {
    "name": "ipython",
    "version": 3
   },
   "file_extension": ".py",
   "mimetype": "text/x-python",
   "name": "python",
   "nbconvert_exporter": "python",
   "pygments_lexer": "ipython3",
   "version": "3.6.3"
  }
 },
 "nbformat": 4,
 "nbformat_minor": 2
}
